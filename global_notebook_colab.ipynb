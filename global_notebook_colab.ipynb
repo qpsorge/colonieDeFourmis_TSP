{
  "nbformat": 4,
  "nbformat_minor": 0,
  "metadata": {
    "colab": {
      "name": "global_notebook_colab.ipynb",
      "provenance": [],
      "collapsed_sections": [
        "W5nug-KkMrOD"
      ]
    },
    "kernelspec": {
      "name": "python3",
      "display_name": "Python 3"
    },
    "accelerator": "GPU"
  },
  "cells": [
    {
      "cell_type": "markdown",
      "metadata": {
        "id": "GtdASFdgMauJ"
      },
      "source": [
        "# Dépendances"
      ]
    },
    {
      "cell_type": "code",
      "metadata": {
        "id": "MkON5WauMYDl"
      },
      "source": [
        "import matplotlib.pyplot as plt \n",
        "import numpy as np\n",
        "import math as m\n",
        "import random\n",
        "\n",
        "def distance(a,b):\n",
        "    (x1,y1),(x2,y2) = (a,b)\n",
        "    return np.sqrt((x1-x2)**2+(y1-y2)**2) "
      ],
      "execution_count": 2,
      "outputs": []
    },
    {
      "cell_type": "markdown",
      "metadata": {
        "id": "OjWiSuw-OyZ8"
      },
      "source": [
        "#### Dependencies to run pygame GUI"
      ]
    },
    {
      "cell_type": "code",
      "metadata": {
        "colab": {
          "base_uri": "https://localhost:8080/"
        },
        "id": "dyem3lBXOw0r",
        "outputId": "2b76e073-acc4-4dae-bc28-76c4c43678f3"
      },
      "source": [
        "!pip install pygame"
      ],
      "execution_count": 3,
      "outputs": [
        {
          "output_type": "stream",
          "text": [
            "Collecting pygame\n",
            "\u001b[?25l  Downloading https://files.pythonhosted.org/packages/87/4c/2ebe8ab1a695a446574bc48d96eb3503649893be8c769e7fafd65fd18833/pygame-2.0.0-cp36-cp36m-manylinux1_x86_64.whl (11.5MB)\n",
            "\u001b[K     |████████████████████████████████| 11.5MB 12.3MB/s \n",
            "\u001b[?25hInstalling collected packages: pygame\n",
            "Successfully installed pygame-2.0.0\n"
          ],
          "name": "stdout"
        }
      ]
    },
    {
      "cell_type": "code",
      "metadata": {
        "id": "MbcCUIfpOkTk"
      },
      "source": [
        "import cv2\n",
        "from google.colab.patches import cv2_imshow\n",
        "from google.colab import output\n",
        "import time \n",
        "import os, sys"
      ],
      "execution_count": 4,
      "outputs": []
    },
    {
      "cell_type": "code",
      "metadata": {
        "id": "4_iRn6THO8E2"
      },
      "source": [
        "# set SDL to use the dummy NULL video driver, \n",
        "#   so it doesn't need a windowing system.\n",
        "os.environ[\"SDL_VIDEODRIVER\"] = \"dummy\""
      ],
      "execution_count": 5,
      "outputs": []
    },
    {
      "cell_type": "markdown",
      "metadata": {
        "id": "Gcb7d86eMgye"
      },
      "source": [
        "# Déclaration et initialisation\n",
        "Problème TSP"
      ]
    },
    {
      "cell_type": "code",
      "metadata": {
        "id": "PdxR_kjhMkfd"
      },
      "source": [
        "# Latitude longitude\n",
        "_CITIES = (\n",
        "    (\"Bordeaux\", (44.833333,-0.566667)), \n",
        "    (\"Paris\",(48.8566969,2.3514616)),\n",
        "    (\"Nice\",(43.7009358,7.2683912)),\n",
        "    (\"Lyon\",(45.7578137,4.8320114)),\n",
        "    (\"Nantes\",(47.2186371,-1.5541362)),\n",
        "    (\"Brest\",(48.4,-4.483333)),\n",
        "    (\"Lille\",(50.633333,3.066667)),\n",
        "    (\"Clermont-Ferrand\",(45.783333,3.083333)),\n",
        "    (\"Strasbourg\",(48.583333,7.75)),\n",
        "    (\"Poitiers\",(46.583333,0.333333)),\n",
        "    (\"Angers\",(47.466667,-0.55)),\n",
        "    (\"Montpellier\",(43.6,3.883333)),\n",
        "    (\"Caen\",(49.183333,-0.35)),\n",
        "    (\"Rennes\",(48.083333,-1.683333)),\n",
        "    (\"Pau\",(43.3,-0.366667))\n",
        ")\n",
        "\n",
        "_NODES = len(_CITIES)\n",
        "epsilon = 0.0001\n",
        "gamma = 0.2"
      ],
      "execution_count": 6,
      "outputs": []
    },
    {
      "cell_type": "markdown",
      "metadata": {
        "id": "_I6oV__xMpOK"
      },
      "source": [
        "# Architecture"
      ]
    },
    {
      "cell_type": "markdown",
      "metadata": {
        "id": "W5nug-KkMrOD"
      },
      "source": [
        "### Classe Map"
      ]
    },
    {
      "cell_type": "code",
      "metadata": {
        "id": "q1KLNWTAMqnq"
      },
      "source": [
        "class Map:\n",
        "    def __init__(self):\n",
        "        self.adj_mat = np.ones((_NODES,_NODES))/_NODES\n",
        "        self.pheromones_to_add = np.zeros((_NODES,_NODES))\n",
        "    \n",
        "    def add_pheromones(self, quantity, path):\n",
        "        # for each path arc\n",
        "        for i in range(len(path)-1):\n",
        "          node_ini, node_end = path[i], path[i+1]\n",
        "          #extract index of node :\n",
        "          index_ini, index_end = _CITIES.index(node_ini), _CITIES.index(node_end)\n",
        "          #Add pheromones in the good arc\n",
        "          self.pheromones_to_add[index_ini,index_end]+=quantity\n",
        "          self.pheromones_to_map()\n",
        "    \n",
        "    def pheromones_to_map(self,ro=0.8):\n",
        "        self.adj_mat= ro*self.adj_mat + self.pheromones_to_add\n",
        "    \n",
        "    def normalize_pheromones(self):\n",
        "        self.adj_mat/=np.sum(self.adj_mat)\n",
        "    \n",
        "    def get_pheromones_intensity(self, node_ini, node_end):\n",
        "        index_ini = _CITIES.index(node_ini)\n",
        "        index_end = _CITIES.index(node_end)\n",
        "        return self.adj_mat[index_ini,index_end]\n",
        "\n",
        "    def path_from_adj_mat(self):\n",
        "        adj_mat_copy = self.adj_mat.copy()\n",
        "        tab=[0]\n",
        "        for _ in range(_NODES):\n",
        "          if (np.argmax(adj_mat_copy[tab[-1],:]) in tab):\n",
        "            adj_mat_copy[tab[-1],np.argmax(adj_mat_copy[tab[-1],:])]=0\n",
        "          tab.append(np.argmax(adj_mat_copy[tab[-1],:]))\n",
        "        return [(i,_CITIES[i][0]) for i in tab]\n",
        "\n",
        "    def path_length_from_adj_mat(self):\n",
        "      path = self.path_from_adj_mat()\n",
        "      coords_path = [_CITIES[x[0]][1] for x in path]\n",
        "      path_distance_tab = [distance(coords_path[i], coords_path[i+1]) for i in range(len(coords_path)-1)]\n",
        "      return np.sum(path_distance_tab)\n",
        "\n",
        "    def print_results(self):\n",
        "      #Print Adj mat\n",
        "      data = self.adj_mat\n",
        "      fig, ax = plt.subplots()\n",
        "      im = ax.imshow(data, cmap=plt.get_cmap('hot'), interpolation='nearest',\n",
        "                        vmin=np.min(data), vmax=np.max(data))\n",
        "      fig.colorbar(im)\n",
        "      plt.show()\n",
        "      # Path & length\n",
        "      print(self.path_from_adj_mat())\n",
        "      print(self.path_length_from_adj_mat())\n",
        "      return 0\n",
        "\n",
        "    def __str__(self):\n",
        "        print(f\"Adj mat of pheromones :\\n{self.adj_mat}\")\n",
        "        return \"\""
      ],
      "execution_count": 7,
      "outputs": []
    },
    {
      "cell_type": "markdown",
      "metadata": {
        "id": "_9A3wCQtMtZl"
      },
      "source": [
        "### Classe Fourmi"
      ]
    },
    {
      "cell_type": "code",
      "metadata": {
        "id": "qg-sjIT8Muvm"
      },
      "source": [
        "class Fourmi:\n",
        "    __prenoms__=[\"Gabrielle\", \"Alphonse\", \"Kevin\", \"Loana\", \"Fleche\",\"Mimi\",\"Marguerite\",\"Pomme\",\"Hercule\",\"Gigantor\",\"Atlas\",\"Tom\",\"Rachelle\",\"Violette\",\"MiniPouce\",\"Rinie\",\"Pitchoune\",\"Josie\",\"Lucie\",\"Garfield\",\"Rose\",\"Greg\",\"Laurent\",\"Florian\",\"Solene\",\"Cathy\",\"Marie\",\"Isabelle\",\"Arnaud\",\"Paul\",\"Lea\",\"Quentin\",\"Marine\",\"Brigitte\",\"Judith\",\"Sucrine\",\"Mirabelle\",\"Citrouille\",\"Ange\",\"Cléopatre\",\"Cléo\"]\n",
        "    def __init__(self, position:tuple):\n",
        "        '''\n",
        "        Creates an ant with \\n\n",
        "        - an initial position \\n\n",
        "        - a list of string (a memory of visited cities)\n",
        "        '''\n",
        "        self.pos = position if position is not None else None\n",
        "        self.cities = [position]\n",
        "        self.quality = 5\n",
        "        self.prenom = Fourmi.__prenoms__[random.randint(0,len(Fourmi.__prenoms__)-1)]\n",
        "    \n",
        "    def choose_movement(self, map:Map, a=0.8, b=0.6):\n",
        "        '''\n",
        "        Returns a tuple (initial_node, future_node) for the ant\n",
        "        '''\n",
        "        #Une fourmi ne peut visiter qu'une fois chaque ville\n",
        "        possible_move=[]\n",
        "\n",
        "        # Cas 1 : on n a pas encore visité toutes les villes\n",
        "        if(len(self.cities) < len(_CITIES)):\n",
        "          \n",
        "          for city in _CITIES:\n",
        "              if(city not in self.cities):\n",
        "                  possible_move.append(city)\n",
        "          if(len(possible_move)>0):\n",
        "              #Les villes proches ont plus de chance d'être choisies => softmax\n",
        "              distances = []\n",
        "              for city in possible_move:\n",
        "                  distances.append(distance(self.pos[1],city[1])) # distance ini-arrivée\n",
        "              \n",
        "              visibility = [1/(x+epsilon) for x in distances]\n",
        "              powered_visibility = np.array(visibility)**b\n",
        "\n",
        "              pheromones_intensity = [map.get_pheromones_intensity(self.pos,city) for city in possible_move]\n",
        "              powered_pheromones_intensity = np.array(pheromones_intensity)**a\n",
        "              \n",
        "              chances =  (gamma + powered_visibility * powered_pheromones_intensity) / np.sum((gamma + powered_visibility * powered_pheromones_intensity)) #softmax(visibility)\n",
        "\n",
        "              #for i in range(len(possible_move)):\n",
        "                  #print(f\"Score de {self.pos[0]} à {possible_move[i][0]} : visibility {np.round(visibility[i],1)}, pheromones {np.round(pheromones_intensity[i],1)},chance {np.round(chances[i],3)}\")\n",
        "              \n",
        "              choice = np.argmax(chances)\n",
        "              #print(f\"Choix : {possible_move[choice]}\")\n",
        "              return (self.pos,possible_move[choice])\n",
        "\n",
        "        # Cas 2 : On a visité toutes les villes, il faut rentrer à la dernière\n",
        "        elif (len(self.cities) == len(_CITIES)):\n",
        "          return (self.pos,self.cities[0]) \n",
        "        \n",
        "        # Cas 3 : la fourmi a fini son tour\n",
        "        elif (len(self.cities) == len(_CITIES)+1):\n",
        "          return 0\n",
        "\n",
        "        else :\n",
        "          return -1\n",
        "\n",
        "    def move(self,possible_move_choice,map):\n",
        "        if type(possible_move_choice) == tuple :\n",
        "          self.pos=possible_move_choice[1]\n",
        "          self.cities.append(possible_move_choice[1])\n",
        "        elif (possible_move_choice == 0):\n",
        "          print(\"Depot des phéromones sur le circuit\")\n",
        "          #ajout de phéromone\n",
        "          map.add_pheromones(quantity=self.quality/self.path_length(), path=self.cities) #node_ini=possible_move_choice[0],node_end=possible_move_choice[1])\n",
        "          map.pheromones_to_map()\n",
        "        else : \n",
        "          print(\"Useless c'est la fin ^^'\")\n",
        "          return 0\n",
        "\n",
        "    def path_length(self):\n",
        "      coords_path = [x[1] for x in self.cities]\n",
        "      path_distance_tab = [distance(coords_path[i], coords_path[i+1]) for i in range(len(coords_path)-1)]\n",
        "      return np.sum(path_distance_tab)\n",
        "\n",
        "    def distance(a,b):\n",
        "      (x1,y1),(x2,y2) = (a,b)\n",
        "      return np.sqrt((x1-x2)**2+(y1-y2)**2) \n",
        "\n",
        "\n",
        "    def coord_to_display(self, OFFSET, mean_x, mean_y, std_x, std_y ):\n",
        "        x_coord = OFFSET+(int)((OFFSET-200)*(self.pos[1][0]-mean_x)/std_x)\n",
        "        y_coord = OFFSET+(int)((OFFSET-200)*(self.pos[1][1]-mean_y)/std_y)\n",
        "        return (x_coord,y_coord)\n",
        "                   \n",
        "    def __str__(self):\n",
        "        print(f\"Agent secret {self.prenom} au rapport\")\n",
        "        print(f\"\\tPosition actuelle : {self.pos[0]}\")\n",
        "        print(f\"\\tVilles visitées : {[x[0] for x in self.cities]}\")\n",
        "        return \"\""
      ],
      "execution_count": 23,
      "outputs": []
    },
    {
      "cell_type": "code",
      "metadata": {
        "colab": {
          "base_uri": "https://localhost:8080/"
        },
        "id": "wzoXpVqBz4uf",
        "outputId": "52c44144-79af-47e7-8cac-c7654c6606c6"
      },
      "source": [
        "_CITIES_POS = [ [x[1][0],x[1][1]] for x in _CITIES ]\n",
        "\n",
        "_CITIES_X=[x[0] for x in _CITIES_POS]\n",
        "_CITIES_Y=[y[1] for y in _CITIES_POS]\n",
        "\n",
        "mean_x, mean_y = np.mean(_CITIES_X), np.mean(_CITIES_Y)\n",
        "std_x, std_y   = np.std(_CITIES_X), np.std(_CITIES_Y)\n",
        "\n",
        "print(f\"X\\nMean : {mean_x}, Standard deviation : {mean_y}\\n\")\n",
        "print(f\"Y\\nMean : {std_x}, Standard deviation : {std_y}\")\n",
        "\n",
        "_CITIES_N_X= (_CITIES_X-mean_x)/std_x\n",
        "_CITIES_N_Y= (_CITIES_Y-mean_y)/std_y\n",
        "\n",
        "_CITIES_N = []\n",
        "for i in range(len(_CITIES_N_X)):\n",
        "  _CITIES_N.append([_CITIES_N_X[i],_CITIES_N_Y[i]])\n",
        "\n",
        "_CITIES_N = (((_CITIES_N)))"
      ],
      "execution_count": 9,
      "outputs": [
        {
          "output_type": "stream",
          "text": [
            "X\n",
            "Mean : 46.798938766666666, Standard deviation : 1.534292933333333\n",
            "\n",
            "Y\n",
            "Mean : 2.171640118703903, Standard deviation : 3.3345809294158224\n"
          ],
          "name": "stdout"
        }
      ]
    },
    {
      "cell_type": "markdown",
      "metadata": {
        "id": "4pQXy6yeNCN8"
      },
      "source": [
        "# Code"
      ]
    },
    {
      "cell_type": "code",
      "metadata": {
        "colab": {
          "base_uri": "https://localhost:8080/",
          "height": 336
        },
        "id": "pQPYK2JRPb9K",
        "outputId": "d0c774ee-a629-4659-eb75-4412b93f9c2d"
      },
      "source": [
        "import pygame\n",
        "\n",
        "pygame.init()\n",
        "\n",
        "WIDTH=700\n",
        "HEIGHT=700\n",
        "OFFSET=WIDTH/2\n",
        "screen = pygame.display.set_mode((WIDTH, HEIGHT))\n",
        "done = False\n",
        "is_blue = True\n",
        "x = 0\n",
        "y = 0\n",
        "epsilon=1\n",
        "\n",
        "font=pygame.font.Font(None, 24)\n",
        "city_color = (255, 100, 0)\n",
        "ant_color  = (0,255,100)\n",
        "__circuit__ = []\n",
        "\n",
        "def text_objects(text, font):\n",
        "    textSurface = font.render(text, True, (255,255,255))\n",
        "    return textSurface, textSurface.get_rect()\n",
        "\n",
        "def message_display(text, coord):\n",
        "    largeText = pygame.font.Font(None, 24)\n",
        "    TextSurf, TextRect = text_objects(text, largeText)\n",
        "    TextRect.center = coord\n",
        "    screen.blit(TextSurf, TextRect)\n",
        "    pygame.display.update()\n",
        "\n",
        "def draw_map():\n",
        "  # Center point\n",
        "  pygame.draw.rect(screen, (255,255,255), pygame.Rect(OFFSET,OFFSET,1,1))\n",
        "        \n",
        "  # Draw every city position and text it\n",
        "  coord_text=[]\n",
        "  for i in range(len(_CITIES_N)):\n",
        "     city=_CITIES_N[i]\n",
        "     x_coord = OFFSET+(int)((OFFSET-200)*city[0])\n",
        "     y_coord = OFFSET+(int)((OFFSET-200)*city[1])\n",
        "     coord_text.append((x_coord, y_coord))\n",
        "     pygame.draw.rect( screen, city_color, pygame.Rect(x_coord,y_coord, 16,16) )\n",
        "     __circuit__.append((x_coord,y_coord))\n",
        "  return coord_text\n",
        "\n",
        "def display_and_clear(n, end_turn=False):\n",
        "  # DISPLAY\n",
        "  pygame.display.flip()\n",
        "\n",
        "  #convert image so it can be displayed in OpenCV\n",
        "  view = pygame.surfarray.array3d(screen)\n",
        "  #  convert from (width, height, channel) to (height, width, channel)\n",
        "  view = view.transpose([1, 0, 2])\n",
        "  #  convert from rgb to bgr\n",
        "  img_bgr = cv2.cvtColor(view, cv2.COLOR_RGB2BGR)\n",
        "  #Display image, clear cell every 0.5 seconds\n",
        "  cv2_imshow(img_bgr)\n",
        "\n",
        "  coord_text = draw_map()\n",
        "  for i in range(len(coord_text)):\n",
        "    message_display(_CITIES[i][0], coord_text[i])\n",
        "\n",
        "  time.sleep(n)\n",
        "  output.clear()\n",
        "  # Clean screen\n",
        "  pygame.draw.rect(screen, (0,0,0), pygame.Rect(0,0,WIDTH,HEIGHT) )\n",
        "  # Draw Map\n",
        "  coord_text = draw_map()\n",
        "  for i in range(len(coord_text)):\n",
        "    message_display(_CITIES[i][0], coord_text[i])\n",
        "\n",
        "\n",
        "  \n",
        "\n",
        "while not done:\n",
        "        for event in pygame.event.get():\n",
        "                if event.type == pygame.QUIT:\n",
        "                        done = True\n",
        "        \n",
        "        # Clean screen\n",
        "        pygame.draw.rect(screen, (0,0,0), pygame.Rect(0,0,WIDTH,HEIGHT) )\n",
        "        # Draw Map\n",
        "        draw_map()\n",
        "          \n",
        "        #SMA ALGO FOR ANTS\n",
        "        pheromones_map = Map()\n",
        "        print(pheromones_map.adj_mat)\n",
        "        f = Fourmi(_CITIES[0])\n",
        "        \n",
        "        #ALGO\n",
        "        n_fourmis = 3\n",
        "        fourmis= [Fourmi(_CITIES[random.randint(0,_NODES-1)]) for i in range(n_fourmis)]\n",
        "        colors = [(200+i*55.0/n_fourmis,200+i*55.0/n_fourmis,200+i*55/n_fourmis) for i in range(len(fourmis))]\n",
        "        for turn in range(_NODES+1):\n",
        "          message_display(f\"Turn {turn}\", (350,350))\n",
        "          for i in range(len(fourmis)):\n",
        "              f=fourmis[i]\n",
        "              f.move(\n",
        "                  f.choose_movement(pheromones_map), \n",
        "                  pheromones_map\n",
        "              )\n",
        "            #GUI ANT\n",
        "              x_ant,y_ant = f.coord_to_display(350, mean_x,mean_y,std_x,std_y)\n",
        "              pygame.draw.circle(screen,colors[i],   (x_ant+8,y_ant+8),8,0)\n",
        "              #pygame.draw.rect(screen, colors[i], pygame.Rect(x_ant, y_ant, 18, 18))\n",
        "          display_and_clear(3)\n",
        "\n",
        "        display_and_clear(1, True)\n",
        "        done=True\n",
        "        \n",
        "        pheromones_map.print_results()\n",
        "        print(__circuit__)"
      ],
      "execution_count": 10,
      "outputs": [
        {
          "output_type": "display_data",
          "data": {
            "image/png": "[encoded data removed]",
            "text/plain": [
              "<Figure size 432x288 with 2 Axes>"
            ]
          },
          "metadata": {
            "tags": [],
            "needs_background": "light"
          }
        },
        {
          "output_type": "stream",
          "text": [
            "[(0, 'Bordeaux'), (14, 'Pau'), (7, 'Clermont-Ferrand'), (3, 'Lyon'), (11, 'Montpellier'), (2, 'Nice'), (8, 'Strasbourg'), (6, 'Lille'), (1, 'Paris'), (12, 'Caen'), (5, 'Brest'), (13, 'Rennes'), (4, 'Nantes'), (10, 'Angers'), (9, 'Poitiers'), (10, 'Angers')]\n",
            "39.37629287990913\n",
            "[(215.0, 256.0), (492.0, 386.0), (137.0, 607.0), (279.0, 498.0), (378.0, 212.0), (460.0, 80.0), (614.0, 418.0), (280.0, 419.0), (473.0, 629.0), (336.0, 296.0), (396.0, 257.0), (130.0, 455.0), (514.0, 266.0), (438.0, 206.0), (109.0, 265.0), (215.0, 256.0), (492.0, 386.0), (137.0, 607.0), (279.0, 498.0), (378.0, 212.0), (460.0, 80.0), (614.0, 418.0), (280.0, 419.0), (473.0, 629.0), (336.0, 296.0), (396.0, 257.0), (130.0, 455.0), (514.0, 266.0), (438.0, 206.0), (109.0, 265.0), (215.0, 256.0), (492.0, 386.0), (137.0, 607.0), (279.0, 498.0), (378.0, 212.0), (460.0, 80.0), (614.0, 418.0), (280.0, 419.0), (473.0, 629.0), (336.0, 296.0), (396.0, 257.0), (130.0, 455.0), (514.0, 266.0), (438.0, 206.0), (109.0, 265.0), (215.0, 256.0), (492.0, 386.0), (137.0, 607.0), (279.0, 498.0), (378.0, 212.0), (460.0, 80.0), (614.0, 418.0), (280.0, 419.0), (473.0, 629.0), (336.0, 296.0), (396.0, 257.0), (130.0, 455.0), (514.0, 266.0), (438.0, 206.0), (109.0, 265.0), (215.0, 256.0), (492.0, 386.0), (137.0, 607.0), (279.0, 498.0), (378.0, 212.0), (460.0, 80.0), (614.0, 418.0), (280.0, 419.0), (473.0, 629.0), (336.0, 296.0), (396.0, 257.0), (130.0, 455.0), (514.0, 266.0), (438.0, 206.0), (109.0, 265.0), (215.0, 256.0), (492.0, 386.0), (137.0, 607.0), (279.0, 498.0), (378.0, 212.0), (460.0, 80.0), (614.0, 418.0), (280.0, 419.0), (473.0, 629.0), (336.0, 296.0), (396.0, 257.0), (130.0, 455.0), (514.0, 266.0), (438.0, 206.0), (109.0, 265.0), (215.0, 256.0), (492.0, 386.0), (137.0, 607.0), (279.0, 498.0), (378.0, 212.0), (460.0, 80.0), (614.0, 418.0), (280.0, 419.0), (473.0, 629.0), (336.0, 296.0), (396.0, 257.0), (130.0, 455.0), (514.0, 266.0), (438.0, 206.0), (109.0, 265.0), (215.0, 256.0), (492.0, 386.0), (137.0, 607.0), (279.0, 498.0), (378.0, 212.0), (460.0, 80.0), (614.0, 418.0), (280.0, 419.0), (473.0, 629.0), (336.0, 296.0), (396.0, 257.0), (130.0, 455.0), (514.0, 266.0), (438.0, 206.0), (109.0, 265.0), (215.0, 256.0), (492.0, 386.0), (137.0, 607.0), (279.0, 498.0), (378.0, 212.0), (460.0, 80.0), (614.0, 418.0), (280.0, 419.0), (473.0, 629.0), (336.0, 296.0), (396.0, 257.0), (130.0, 455.0), (514.0, 266.0), (438.0, 206.0), (109.0, 265.0), (215.0, 256.0), (492.0, 386.0), (137.0, 607.0), (279.0, 498.0), (378.0, 212.0), (460.0, 80.0), (614.0, 418.0), (280.0, 419.0), (473.0, 629.0), (336.0, 296.0), (396.0, 257.0), (130.0, 455.0), (514.0, 266.0), (438.0, 206.0), (109.0, 265.0), (215.0, 256.0), (492.0, 386.0), (137.0, 607.0), (279.0, 498.0), (378.0, 212.0), (460.0, 80.0), (614.0, 418.0), (280.0, 419.0), (473.0, 629.0), (336.0, 296.0), (396.0, 257.0), (130.0, 455.0), (514.0, 266.0), (438.0, 206.0), (109.0, 265.0), (215.0, 256.0), (492.0, 386.0), (137.0, 607.0), (279.0, 498.0), (378.0, 212.0), (460.0, 80.0), (614.0, 418.0), (280.0, 419.0), (473.0, 629.0), (336.0, 296.0), (396.0, 257.0), (130.0, 455.0), (514.0, 266.0), (438.0, 206.0), (109.0, 265.0), (215.0, 256.0), (492.0, 386.0), (137.0, 607.0), (279.0, 498.0), (378.0, 212.0), (460.0, 80.0), (614.0, 418.0), (280.0, 419.0), (473.0, 629.0), (336.0, 296.0), (396.0, 257.0), (130.0, 455.0), (514.0, 266.0), (438.0, 206.0), (109.0, 265.0), (215.0, 256.0), (492.0, 386.0), (137.0, 607.0), (279.0, 498.0), (378.0, 212.0), (460.0, 80.0), (614.0, 418.0), (280.0, 419.0), (473.0, 629.0), (336.0, 296.0), (396.0, 257.0), (130.0, 455.0), (514.0, 266.0), (438.0, 206.0), (109.0, 265.0), (215.0, 256.0), (492.0, 386.0), (137.0, 607.0), (279.0, 498.0), (378.0, 212.0), (460.0, 80.0), (614.0, 418.0), (280.0, 419.0), (473.0, 629.0), (336.0, 296.0), (396.0, 257.0), (130.0, 455.0), (514.0, 266.0), (438.0, 206.0), (109.0, 265.0), (215.0, 256.0), (492.0, 386.0), (137.0, 607.0), (279.0, 498.0), (378.0, 212.0), (460.0, 80.0), (614.0, 418.0), (280.0, 419.0), (473.0, 629.0), (336.0, 296.0), (396.0, 257.0), (130.0, 455.0), (514.0, 266.0), (438.0, 206.0), (109.0, 265.0), (215.0, 256.0), (492.0, 386.0), (137.0, 607.0), (279.0, 498.0), (378.0, 212.0), (460.0, 80.0), (614.0, 418.0), (280.0, 419.0), (473.0, 629.0), (336.0, 296.0), (396.0, 257.0), (130.0, 455.0), (514.0, 266.0), (438.0, 206.0), (109.0, 265.0), (215.0, 256.0), (492.0, 386.0), (137.0, 607.0), (279.0, 498.0), (378.0, 212.0), (460.0, 80.0), (614.0, 418.0), (280.0, 419.0), (473.0, 629.0), (336.0, 296.0), (396.0, 257.0), (130.0, 455.0), (514.0, 266.0), (438.0, 206.0), (109.0, 265.0), (215.0, 256.0), (492.0, 386.0), (137.0, 607.0), (279.0, 498.0), (378.0, 212.0), (460.0, 80.0), (614.0, 418.0), (280.0, 419.0), (473.0, 629.0), (336.0, 296.0), (396.0, 257.0), (130.0, 455.0), (514.0, 266.0), (438.0, 206.0), (109.0, 265.0), (215.0, 256.0), (492.0, 386.0), (137.0, 607.0), (279.0, 498.0), (378.0, 212.0), (460.0, 80.0), (614.0, 418.0), (280.0, 419.0), (473.0, 629.0), (336.0, 296.0), (396.0, 257.0), (130.0, 455.0), (514.0, 266.0), (438.0, 206.0), (109.0, 265.0), (215.0, 256.0), (492.0, 386.0), (137.0, 607.0), (279.0, 498.0), (378.0, 212.0), (460.0, 80.0), (614.0, 418.0), (280.0, 419.0), (473.0, 629.0), (336.0, 296.0), (396.0, 257.0), (130.0, 455.0), (514.0, 266.0), (438.0, 206.0), (109.0, 265.0), (215.0, 256.0), (492.0, 386.0), (137.0, 607.0), (279.0, 498.0), (378.0, 212.0), (460.0, 80.0), (614.0, 418.0), (280.0, 419.0), (473.0, 629.0), (336.0, 296.0), (396.0, 257.0), (130.0, 455.0), (514.0, 266.0), (438.0, 206.0), (109.0, 265.0), (215.0, 256.0), (492.0, 386.0), (137.0, 607.0), (279.0, 498.0), (378.0, 212.0), (460.0, 80.0), (614.0, 418.0), (280.0, 419.0), (473.0, 629.0), (336.0, 296.0), (396.0, 257.0), (130.0, 455.0), (514.0, 266.0), (438.0, 206.0), (109.0, 265.0), (215.0, 256.0), (492.0, 386.0), (137.0, 607.0), (279.0, 498.0), (378.0, 212.0), (460.0, 80.0), (614.0, 418.0), (280.0, 419.0), (473.0, 629.0), (336.0, 296.0), (396.0, 257.0), (130.0, 455.0), (514.0, 266.0), (438.0, 206.0), (109.0, 265.0), (215.0, 256.0), (492.0, 386.0), (137.0, 607.0), (279.0, 498.0), (378.0, 212.0), (460.0, 80.0), (614.0, 418.0), (280.0, 419.0), (473.0, 629.0), (336.0, 296.0), (396.0, 257.0), (130.0, 455.0), (514.0, 266.0), (438.0, 206.0), (109.0, 265.0), (215.0, 256.0), (492.0, 386.0), (137.0, 607.0), (279.0, 498.0), (378.0, 212.0), (460.0, 80.0), (614.0, 418.0), (280.0, 419.0), (473.0, 629.0), (336.0, 296.0), (396.0, 257.0), (130.0, 455.0), (514.0, 266.0), (438.0, 206.0), (109.0, 265.0), (215.0, 256.0), (492.0, 386.0), (137.0, 607.0), (279.0, 498.0), (378.0, 212.0), (460.0, 80.0), (614.0, 418.0), (280.0, 419.0), (473.0, 629.0), (336.0, 296.0), (396.0, 257.0), (130.0, 455.0), (514.0, 266.0), (438.0, 206.0), (109.0, 265.0), (215.0, 256.0), (492.0, 386.0), (137.0, 607.0), (279.0, 498.0), (378.0, 212.0), (460.0, 80.0), (614.0, 418.0), (280.0, 419.0), (473.0, 629.0), (336.0, 296.0), (396.0, 257.0), (130.0, 455.0), (514.0, 266.0), (438.0, 206.0), (109.0, 265.0), (215.0, 256.0), (492.0, 386.0), (137.0, 607.0), (279.0, 498.0), (378.0, 212.0), (460.0, 80.0), (614.0, 418.0), (280.0, 419.0), (473.0, 629.0), (336.0, 296.0), (396.0, 257.0), (130.0, 455.0), (514.0, 266.0), (438.0, 206.0), (109.0, 265.0), (215.0, 256.0), (492.0, 386.0), (137.0, 607.0), (279.0, 498.0), (378.0, 212.0), (460.0, 80.0), (614.0, 418.0), (280.0, 419.0), (473.0, 629.0), (336.0, 296.0), (396.0, 257.0), (130.0, 455.0), (514.0, 266.0), (438.0, 206.0), (109.0, 265.0), (215.0, 256.0), (492.0, 386.0), (137.0, 607.0), (279.0, 498.0), (378.0, 212.0), (460.0, 80.0), (614.0, 418.0), (280.0, 419.0), (473.0, 629.0), (336.0, 296.0), (396.0, 257.0), (130.0, 455.0), (514.0, 266.0), (438.0, 206.0), (109.0, 265.0), (215.0, 256.0), (492.0, 386.0), (137.0, 607.0), (279.0, 498.0), (378.0, 212.0), (460.0, 80.0), (614.0, 418.0), (280.0, 419.0), (473.0, 629.0), (336.0, 296.0), (396.0, 257.0), (130.0, 455.0), (514.0, 266.0), (438.0, 206.0), (109.0, 265.0), (215.0, 256.0), (492.0, 386.0), (137.0, 607.0), (279.0, 498.0), (378.0, 212.0), (460.0, 80.0), (614.0, 418.0), (280.0, 419.0), (473.0, 629.0), (336.0, 296.0), (396.0, 257.0), (130.0, 455.0), (514.0, 266.0), (438.0, 206.0), (109.0, 265.0), (215.0, 256.0), (492.0, 386.0), (137.0, 607.0), (279.0, 498.0), (378.0, 212.0), (460.0, 80.0), (614.0, 418.0), (280.0, 419.0), (473.0, 629.0), (336.0, 296.0), (396.0, 257.0), (130.0, 455.0), (514.0, 266.0), (438.0, 206.0), (109.0, 265.0), (215.0, 256.0), (492.0, 386.0), (137.0, 607.0), (279.0, 498.0), (378.0, 212.0), (460.0, 80.0), (614.0, 418.0), (280.0, 419.0), (473.0, 629.0), (336.0, 296.0), (396.0, 257.0), (130.0, 455.0), (514.0, 266.0), (438.0, 206.0), (109.0, 265.0)]\n"
          ],
          "name": "stdout"
        }
      ]
    },
    {
      "cell_type": "code",
      "metadata": {
        "id": "LGmTgftvNDCT",
        "colab": {
          "base_uri": "https://localhost:8080/",
          "height": 1000
        },
        "outputId": "cfda7cef-190f-40be-da4e-d0339dc9dd4c"
      },
      "source": [
        "pheromones_map = Map()\n",
        "print(pheromones_map)\n",
        "\n",
        "fourmis = [Fourmi(_CITIES[random.randint(0,_NODES-1)]) for i in range(1)]\n",
        "\n",
        "for _ in range(1): #circuit number\n",
        "    for turn in range(_NODES+1):\n",
        "        print(f\"Turn {turn}\")\n",
        "        for f in range(len(fourmis)):\n",
        "            fourmis[f].move(\n",
        "                fourmis[f].choose_movement(pheromones_map), \n",
        "                pheromones_map\n",
        "            )\n",
        "        #print(pheromones_map)\n",
        "        # Add new pheromones & evaporate old ones\n",
        "        #pheromones_map.pheromones_to_map()\n",
        "        #Normalize them \n",
        "    [print(f) for f in fourmis]\n",
        "    [print(f.path_length()) for f in fourmis]\n",
        "    [print(pheromones_map.pheromones_to_add) for f in fourmis]\n",
        "    print(pheromones_map.adj_mat)\n",
        "    pheromones_map.normalize_pheromones()\n",
        "    print(pheromones_map.adj_mat)\n",
        "\n",
        "\n",
        "print(np.array([np.round(x,2) for x in pheromones_map.adj_mat]))\n",
        "print(f\" Shape {pheromones_map.adj_mat.shape}, type {pheromones_map.adj_mat.dtype}\")\n",
        "\n",
        "print(f\"Adj mat path : \")\n",
        "pheromones_map.print_results()\n",
        "\n",
        "best_f = fourmis[np.argmax([f.path_length() for f in fourmis])]\n",
        "print(best_f)\n",
        "print(best_f.path_length())\n",
        "\n"
      ],
      "execution_count": 13,
      "outputs": [
        {
          "output_type": "stream",
          "text": [
            "Adj mat of pheromones :\n",
            "[[0.06666667 0.06666667 0.06666667 0.06666667 0.06666667 0.06666667\n",
            "  0.06666667 0.06666667 0.06666667 0.06666667 0.06666667 0.06666667\n",
            "  0.06666667 0.06666667 0.06666667]\n",
            " [0.06666667 0.06666667 0.06666667 0.06666667 0.06666667 0.06666667\n",
            "  0.06666667 0.06666667 0.06666667 0.06666667 0.06666667 0.06666667\n",
            "  0.06666667 0.06666667 0.06666667]\n",
            " [0.06666667 0.06666667 0.06666667 0.06666667 0.06666667 0.06666667\n",
            "  0.06666667 0.06666667 0.06666667 0.06666667 0.06666667 0.06666667\n",
            "  0.06666667 0.06666667 0.06666667]\n",
            " [0.06666667 0.06666667 0.06666667 0.06666667 0.06666667 0.06666667\n",
            "  0.06666667 0.06666667 0.06666667 0.06666667 0.06666667 0.06666667\n",
            "  0.06666667 0.06666667 0.06666667]\n",
            " [0.06666667 0.06666667 0.06666667 0.06666667 0.06666667 0.06666667\n",
            "  0.06666667 0.06666667 0.06666667 0.06666667 0.06666667 0.06666667\n",
            "  0.06666667 0.06666667 0.06666667]\n",
            " [0.06666667 0.06666667 0.06666667 0.06666667 0.06666667 0.06666667\n",
            "  0.06666667 0.06666667 0.06666667 0.06666667 0.06666667 0.06666667\n",
            "  0.06666667 0.06666667 0.06666667]\n",
            " [0.06666667 0.06666667 0.06666667 0.06666667 0.06666667 0.06666667\n",
            "  0.06666667 0.06666667 0.06666667 0.06666667 0.06666667 0.06666667\n",
            "  0.06666667 0.06666667 0.06666667]\n",
            " [0.06666667 0.06666667 0.06666667 0.06666667 0.06666667 0.06666667\n",
            "  0.06666667 0.06666667 0.06666667 0.06666667 0.06666667 0.06666667\n",
            "  0.06666667 0.06666667 0.06666667]\n",
            " [0.06666667 0.06666667 0.06666667 0.06666667 0.06666667 0.06666667\n",
            "  0.06666667 0.06666667 0.06666667 0.06666667 0.06666667 0.06666667\n",
            "  0.06666667 0.06666667 0.06666667]\n",
            " [0.06666667 0.06666667 0.06666667 0.06666667 0.06666667 0.06666667\n",
            "  0.06666667 0.06666667 0.06666667 0.06666667 0.06666667 0.06666667\n",
            "  0.06666667 0.06666667 0.06666667]\n",
            " [0.06666667 0.06666667 0.06666667 0.06666667 0.06666667 0.06666667\n",
            "  0.06666667 0.06666667 0.06666667 0.06666667 0.06666667 0.06666667\n",
            "  0.06666667 0.06666667 0.06666667]\n",
            " [0.06666667 0.06666667 0.06666667 0.06666667 0.06666667 0.06666667\n",
            "  0.06666667 0.06666667 0.06666667 0.06666667 0.06666667 0.06666667\n",
            "  0.06666667 0.06666667 0.06666667]\n",
            " [0.06666667 0.06666667 0.06666667 0.06666667 0.06666667 0.06666667\n",
            "  0.06666667 0.06666667 0.06666667 0.06666667 0.06666667 0.06666667\n",
            "  0.06666667 0.06666667 0.06666667]\n",
            " [0.06666667 0.06666667 0.06666667 0.06666667 0.06666667 0.06666667\n",
            "  0.06666667 0.06666667 0.06666667 0.06666667 0.06666667 0.06666667\n",
            "  0.06666667 0.06666667 0.06666667]\n",
            " [0.06666667 0.06666667 0.06666667 0.06666667 0.06666667 0.06666667\n",
            "  0.06666667 0.06666667 0.06666667 0.06666667 0.06666667 0.06666667\n",
            "  0.06666667 0.06666667 0.06666667]]\n",
            "\n",
            "Turn 0\n",
            "Turn 1\n",
            "Turn 2\n",
            "Turn 3\n",
            "Turn 4\n",
            "Turn 5\n",
            "Turn 6\n",
            "Turn 7\n",
            "Turn 8\n",
            "Turn 9\n",
            "Turn 10\n",
            "Turn 11\n",
            "Turn 12\n",
            "Turn 13\n",
            "Turn 14\n",
            "Turn 15\n",
            "ON VA DONNER L ORDRE D UPDATE LES PHEROMONES !!!\n",
            "ON VA UPDATE LES PHEROMONES !!!\n",
            "Agent secret au rapport\n",
            "\tPosition actuelle : Rennes\n",
            "\tVilles visitées : ['Rennes', 'Nantes', 'Angers', 'Poitiers', 'Bordeaux', 'Pau', 'Clermont-Ferrand', 'Lyon', 'Montpellier', 'Nice', 'Strasbourg', 'Lille', 'Paris', 'Caen', 'Brest', 'Rennes']\n",
            "\n",
            "40.09493752952588\n",
            "[[0.         0.         0.         0.         0.         0.\n",
            "  0.         0.         0.         0.         0.         0.\n",
            "  0.         0.         0.12470402]\n",
            " [0.         0.         0.         0.         0.         0.\n",
            "  0.         0.         0.         0.         0.         0.\n",
            "  0.12470402 0.         0.        ]\n",
            " [0.         0.         0.         0.         0.         0.\n",
            "  0.         0.         0.12470402 0.         0.         0.\n",
            "  0.         0.         0.        ]\n",
            " [0.         0.         0.         0.         0.         0.\n",
            "  0.         0.         0.         0.         0.         0.12470402\n",
            "  0.         0.         0.        ]\n",
            " [0.         0.         0.         0.         0.         0.\n",
            "  0.         0.         0.         0.         0.12470402 0.\n",
            "  0.         0.         0.        ]\n",
            " [0.         0.         0.         0.         0.         0.\n",
            "  0.         0.         0.         0.         0.         0.\n",
            "  0.         0.12470402 0.        ]\n",
            " [0.         0.12470402 0.         0.         0.         0.\n",
            "  0.         0.         0.         0.         0.         0.\n",
            "  0.         0.         0.        ]\n",
            " [0.         0.         0.         0.12470402 0.         0.\n",
            "  0.         0.         0.         0.         0.         0.\n",
            "  0.         0.         0.        ]\n",
            " [0.         0.         0.         0.         0.         0.\n",
            "  0.12470402 0.         0.         0.         0.         0.\n",
            "  0.         0.         0.        ]\n",
            " [0.12470402 0.         0.         0.         0.         0.\n",
            "  0.         0.         0.         0.         0.         0.\n",
            "  0.         0.         0.        ]\n",
            " [0.         0.         0.         0.         0.         0.\n",
            "  0.         0.         0.         0.12470402 0.         0.\n",
            "  0.         0.         0.        ]\n",
            " [0.         0.         0.12470402 0.         0.         0.\n",
            "  0.         0.         0.         0.         0.         0.\n",
            "  0.         0.         0.        ]\n",
            " [0.         0.         0.         0.         0.         0.12470402\n",
            "  0.         0.         0.         0.         0.         0.\n",
            "  0.         0.         0.        ]\n",
            " [0.         0.         0.         0.         0.12470402 0.\n",
            "  0.         0.         0.         0.         0.         0.\n",
            "  0.         0.         0.        ]\n",
            " [0.         0.         0.         0.         0.         0.\n",
            "  0.         0.12470402 0.         0.         0.         0.\n",
            "  0.         0.         0.        ]]\n",
            "[[0.0018765  0.0018765  0.0018765  0.0018765  0.0018765  0.0018765\n",
            "  0.0018765  0.0018765  0.0018765  0.0018765  0.0018765  0.0018765\n",
            "  0.0018765  0.0018765  0.58254864]\n",
            " [0.0018765  0.0018765  0.0018765  0.0018765  0.0018765  0.0018765\n",
            "  0.0018765  0.0018765  0.0018765  0.0018765  0.0018765  0.0018765\n",
            "  0.37000277 0.0018765  0.0018765 ]\n",
            " [0.0018765  0.0018765  0.0018765  0.0018765  0.0018765  0.0018765\n",
            "  0.0018765  0.0018765  0.49463497 0.0018765  0.0018765  0.0018765\n",
            "  0.0018765  0.0018765  0.0018765 ]\n",
            " [0.0018765  0.0018765  0.0018765  0.0018765  0.0018765  0.0018765\n",
            "  0.0018765  0.0018765  0.0018765  0.0018765  0.0018765  0.54170916\n",
            "  0.0018765  0.0018765  0.0018765 ]\n",
            " [0.0018765  0.0018765  0.0018765  0.0018765  0.0018765  0.0018765\n",
            "  0.0018765  0.0018765  0.0018765  0.0018765  0.60345845 0.0018765\n",
            "  0.0018765  0.0018765  0.0018765 ]\n",
            " [0.0018765  0.0018765  0.0018765  0.0018765  0.0018765  0.0018765\n",
            "  0.0018765  0.0018765  0.0018765  0.0018765  0.0018765  0.0018765\n",
            "  0.0018765  0.22634374 0.0018765 ]\n",
            " [0.0018765  0.42108154 0.0018765  0.0018765  0.0018765  0.0018765\n",
            "  0.0018765  0.0018765  0.0018765  0.0018765  0.0018765  0.0018765\n",
            "  0.0018765  0.0018765  0.0018765 ]\n",
            " [0.0018765  0.0018765  0.0018765  0.55844665 0.0018765  0.0018765\n",
            "  0.0018765  0.0018765  0.0018765  0.0018765  0.0018765  0.0018765\n",
            "  0.0018765  0.0018765  0.0018765 ]\n",
            " [0.0018765  0.0018765  0.0018765  0.0018765  0.0018765  0.0018765\n",
            "  0.46194456 0.0018765  0.0018765  0.0018765  0.0018765  0.0018765\n",
            "  0.0018765  0.0018765  0.0018765 ]\n",
            " [0.59111823 0.0018765  0.0018765  0.0018765  0.0018765  0.0018765\n",
            "  0.0018765  0.0018765  0.0018765  0.0018765  0.0018765  0.0018765\n",
            "  0.0018765  0.0018765  0.0018765 ]\n",
            " [0.0018765  0.0018765  0.0018765  0.0018765  0.0018765  0.0018765\n",
            "  0.0018765  0.0018765  0.0018765  0.59797391 0.0018765  0.0018765\n",
            "  0.0018765  0.0018765  0.0018765 ]\n",
            " [0.0018765  0.0018765  0.5207873  0.0018765  0.0018765  0.0018765\n",
            "  0.0018765  0.0018765  0.0018765  0.0018765  0.0018765  0.0018765\n",
            "  0.0018765  0.0018765  0.0018765 ]\n",
            " [0.0018765  0.0018765  0.0018765  0.0018765  0.0018765  0.30615432\n",
            "  0.0018765  0.0018765  0.0018765  0.0018765  0.0018765  0.0018765\n",
            "  0.0018765  0.0018765  0.0018765 ]\n",
            " [0.0018765  0.0018765  0.0018765  0.0018765  0.60784608 0.0018765\n",
            "  0.0018765  0.0018765  0.0018765  0.0018765  0.0018765  0.0018765\n",
            "  0.0018765  0.0018765  0.0018765 ]\n",
            " [0.0018765  0.0018765  0.0018765  0.0018765  0.0018765  0.0018765\n",
            "  0.0018765  0.57183664 0.0018765  0.0018765  0.0018765  0.0018765\n",
            "  0.0018765  0.0018765  0.0018765 ]]\n",
            "[[0.00023905 0.00023905 0.00023905 0.00023905 0.00023905 0.00023905\n",
            "  0.00023905 0.00023905 0.00023905 0.00023905 0.00023905 0.00023905\n",
            "  0.00023905 0.00023905 0.07421047]\n",
            " [0.00023905 0.00023905 0.00023905 0.00023905 0.00023905 0.00023905\n",
            "  0.00023905 0.00023905 0.00023905 0.00023905 0.00023905 0.00023905\n",
            "  0.0471344  0.00023905 0.00023905]\n",
            " [0.00023905 0.00023905 0.00023905 0.00023905 0.00023905 0.00023905\n",
            "  0.00023905 0.00023905 0.06301121 0.00023905 0.00023905 0.00023905\n",
            "  0.00023905 0.00023905 0.00023905]\n",
            " [0.00023905 0.00023905 0.00023905 0.00023905 0.00023905 0.00023905\n",
            "  0.00023905 0.00023905 0.00023905 0.00023905 0.00023905 0.06900796\n",
            "  0.00023905 0.00023905 0.00023905]\n",
            " [0.00023905 0.00023905 0.00023905 0.00023905 0.00023905 0.00023905\n",
            "  0.00023905 0.00023905 0.00023905 0.00023905 0.07687416 0.00023905\n",
            "  0.00023905 0.00023905 0.00023905]\n",
            " [0.00023905 0.00023905 0.00023905 0.00023905 0.00023905 0.00023905\n",
            "  0.00023905 0.00023905 0.00023905 0.00023905 0.00023905 0.00023905\n",
            "  0.00023905 0.02883377 0.00023905]\n",
            " [0.00023905 0.05364129 0.00023905 0.00023905 0.00023905 0.00023905\n",
            "  0.00023905 0.00023905 0.00023905 0.00023905 0.00023905 0.00023905\n",
            "  0.00023905 0.00023905 0.00023905]\n",
            " [0.00023905 0.00023905 0.00023905 0.07114014 0.00023905 0.00023905\n",
            "  0.00023905 0.00023905 0.00023905 0.00023905 0.00023905 0.00023905\n",
            "  0.00023905 0.00023905 0.00023905]\n",
            " [0.00023905 0.00023905 0.00023905 0.00023905 0.00023905 0.00023905\n",
            "  0.0588468  0.00023905 0.00023905 0.00023905 0.00023905 0.00023905\n",
            "  0.00023905 0.00023905 0.00023905]\n",
            " [0.07530215 0.00023905 0.00023905 0.00023905 0.00023905 0.00023905\n",
            "  0.00023905 0.00023905 0.00023905 0.00023905 0.00023905 0.00023905\n",
            "  0.00023905 0.00023905 0.00023905]\n",
            " [0.00023905 0.00023905 0.00023905 0.00023905 0.00023905 0.00023905\n",
            "  0.00023905 0.00023905 0.00023905 0.07617549 0.00023905 0.00023905\n",
            "  0.00023905 0.00023905 0.00023905]\n",
            " [0.00023905 0.00023905 0.06634274 0.00023905 0.00023905 0.00023905\n",
            "  0.00023905 0.00023905 0.00023905 0.00023905 0.00023905 0.00023905\n",
            "  0.00023905 0.00023905 0.00023905]\n",
            " [0.00023905 0.00023905 0.00023905 0.00023905 0.00023905 0.03900079\n",
            "  0.00023905 0.00023905 0.00023905 0.00023905 0.00023905 0.00023905\n",
            "  0.00023905 0.00023905 0.00023905]\n",
            " [0.00023905 0.00023905 0.00023905 0.00023905 0.0774331  0.00023905\n",
            "  0.00023905 0.00023905 0.00023905 0.00023905 0.00023905 0.00023905\n",
            "  0.00023905 0.00023905 0.00023905]\n",
            " [0.00023905 0.00023905 0.00023905 0.00023905 0.00023905 0.00023905\n",
            "  0.00023905 0.07284588 0.00023905 0.00023905 0.00023905 0.00023905\n",
            "  0.00023905 0.00023905 0.00023905]]\n",
            "[[0.   0.   0.   0.   0.   0.   0.   0.   0.   0.   0.   0.   0.   0.\n",
            "  0.07]\n",
            " [0.   0.   0.   0.   0.   0.   0.   0.   0.   0.   0.   0.   0.05 0.\n",
            "  0.  ]\n",
            " [0.   0.   0.   0.   0.   0.   0.   0.   0.06 0.   0.   0.   0.   0.\n",
            "  0.  ]\n",
            " [0.   0.   0.   0.   0.   0.   0.   0.   0.   0.   0.   0.07 0.   0.\n",
            "  0.  ]\n",
            " [0.   0.   0.   0.   0.   0.   0.   0.   0.   0.   0.08 0.   0.   0.\n",
            "  0.  ]\n",
            " [0.   0.   0.   0.   0.   0.   0.   0.   0.   0.   0.   0.   0.   0.03\n",
            "  0.  ]\n",
            " [0.   0.05 0.   0.   0.   0.   0.   0.   0.   0.   0.   0.   0.   0.\n",
            "  0.  ]\n",
            " [0.   0.   0.   0.07 0.   0.   0.   0.   0.   0.   0.   0.   0.   0.\n",
            "  0.  ]\n",
            " [0.   0.   0.   0.   0.   0.   0.06 0.   0.   0.   0.   0.   0.   0.\n",
            "  0.  ]\n",
            " [0.08 0.   0.   0.   0.   0.   0.   0.   0.   0.   0.   0.   0.   0.\n",
            "  0.  ]\n",
            " [0.   0.   0.   0.   0.   0.   0.   0.   0.   0.08 0.   0.   0.   0.\n",
            "  0.  ]\n",
            " [0.   0.   0.07 0.   0.   0.   0.   0.   0.   0.   0.   0.   0.   0.\n",
            "  0.  ]\n",
            " [0.   0.   0.   0.   0.   0.04 0.   0.   0.   0.   0.   0.   0.   0.\n",
            "  0.  ]\n",
            " [0.   0.   0.   0.   0.08 0.   0.   0.   0.   0.   0.   0.   0.   0.\n",
            "  0.  ]\n",
            " [0.   0.   0.   0.   0.   0.   0.   0.07 0.   0.   0.   0.   0.   0.\n",
            "  0.  ]]\n",
            " Shape (15, 15), type float64\n",
            "Adj mat path : \n"
          ],
          "name": "stdout"
        },
        {
          "output_type": "stream",
          "text": [
            "/usr/local/lib/python3.6/dist-packages/ipykernel_launcher.py:65: RuntimeWarning: divide by zero encountered in double_scalars\n"
          ],
          "name": "stderr"
        },
        {
          "output_type": "display_data",
          "data": {
            "image/png": "[encoded data removed]",
            "text/plain": [
              "<Figure size 432x288 with 2 Axes>"
            ]
          },
          "metadata": {
            "tags": [],
            "needs_background": "light"
          }
        },
        {
          "output_type": "stream",
          "text": [
            "[(0, 'Bordeaux'), (14, 'Pau'), (7, 'Clermont-Ferrand'), (3, 'Lyon'), (11, 'Montpellier'), (2, 'Nice'), (8, 'Strasbourg'), (6, 'Lille'), (1, 'Paris'), (12, 'Caen'), (5, 'Brest'), (13, 'Rennes'), (4, 'Nantes'), (10, 'Angers'), (9, 'Poitiers'), (1, 'Paris')]\n",
            "41.16697633171941\n",
            "Agent secret au rapport\n",
            "\tPosition actuelle : Rennes\n",
            "\tVilles visitées : ['Rennes', 'Nantes', 'Angers', 'Poitiers', 'Bordeaux', 'Pau', 'Clermont-Ferrand', 'Lyon', 'Montpellier', 'Nice', 'Strasbourg', 'Lille', 'Paris', 'Caen', 'Brest', 'Rennes']\n",
            "\n",
            "40.09493752952588\n"
          ],
          "name": "stdout"
        }
      ]
    },
    {
      "cell_type": "code",
      "metadata": {
        "colab": {
          "base_uri": "https://localhost:8080/"
        },
        "id": "3N9A8S0r-02N",
        "outputId": "7507dcde-6be8-4727-8ea4-e354637e0125"
      },
      "source": [
        "for _ in range(1):\n",
        "    fo = Fourmi(_CITIES[random.randint(0,_NODES-1)])\n",
        "    for turn in range(_NODES+1):\n",
        "        print(f\"Turn {turn}\")\n",
        "        fo.move(\n",
        "            fo.choose_movement(pheromones_map), \n",
        "            pheromones_map\n",
        "        )\n",
        "    print(fo)\n",
        "    print(fo.path_length())\n",
        "    #print(pheromones_map.pheromones_to_add)\n",
        "    #print(pheromones_map.adj_mat)\n",
        "\n",
        "\n",
        "#print(np.array([np.round(x,2) for x in pheromones_map.adj_mat]))\n",
        "#print(f\" Shape {pheromones_map.adj_mat.shape}, type {pheromones_map.adj_mat.dtype}\")\n",
        "\n",
        "#print(pheromones_map.print_results())"
      ],
      "execution_count": 37,
      "outputs": [
        {
          "output_type": "stream",
          "text": [
            "Turn 0\n",
            "Turn 1\n",
            "Turn 2\n",
            "Turn 3\n",
            "Turn 4\n",
            "Turn 5\n",
            "Turn 6\n",
            "Turn 7\n",
            "Turn 8\n",
            "Turn 9\n",
            "Turn 10\n",
            "Turn 11\n",
            "Turn 12\n",
            "Turn 13\n",
            "Turn 14\n",
            "Turn 15\n",
            "Depot des phéromones sur le circuit\n",
            "Agent secret Isabelle au rapport\n",
            "\tPosition actuelle : Nice\n",
            "\tVilles visitées : ['Nice', 'Strasbourg', 'Lille', 'Paris', 'Caen', 'Brest', 'Rennes', 'Nantes', 'Angers', 'Poitiers', 'Bordeaux', 'Pau', 'Clermont-Ferrand', 'Lyon', 'Montpellier', 'Nice']\n",
            "\n",
            "40.09493752952588\n"
          ],
          "name": "stdout"
        },
        {
          "output_type": "stream",
          "text": [
            "/usr/local/lib/python3.6/dist-packages/ipykernel_launcher.py:66: RuntimeWarning: divide by zero encountered in double_scalars\n"
          ],
          "name": "stderr"
        }
      ]
    }
  ]
}